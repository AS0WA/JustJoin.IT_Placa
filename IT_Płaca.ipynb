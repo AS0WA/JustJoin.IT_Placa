{
  "nbformat": 4,
  "nbformat_minor": 0,
  "metadata": {
    "colab": {
      "provenance": [],
      "collapsed_sections": [
        "9UlRtiV7ah4z",
        "AG5U6ynaalP0"
      ]
    },
    "kernelspec": {
      "name": "python3",
      "display_name": "Python 3"
    },
    "language_info": {
      "name": "python"
    }
  },
  "cells": [
    {
      "cell_type": "markdown",
      "source": [
        "# **Import**"
      ],
      "metadata": {
        "id": "9UlRtiV7ah4z"
      }
    },
    {
      "cell_type": "code",
      "source": [
        "import requests\n",
        "import matplotlib.pyplot as plt\n",
        "import numpy as np\n",
        "import re\n",
        "\n",
        "r = requests.get(\"https://justjoin.it/api/offers\")\n",
        "dataset = r.json()"
      ],
      "metadata": {
        "id": "ffoxFwADjbZA"
      },
      "execution_count": null,
      "outputs": []
    },
    {
      "cell_type": "markdown",
      "source": [
        "# **Obliczenia**"
      ],
      "metadata": {
        "id": "AG5U6ynaalP0"
      }
    },
    {
      "cell_type": "code",
      "source": [
        "def make_chart(x):\n",
        "    x_total_salary = 0\n",
        "    x_number_jobs = 0\n",
        "    x_avg_salary = 0\n",
        "    x_min_salaries = []\n",
        "    x_max_salaries = []\n",
        "\n",
        "    for job in dataset:\n",
        "        if job['marker_icon'] == x and job['employment_types'][0]['salary'] != None and job['employment_types'][0]['salary'][\"currency\"] == 'pln':\n",
        "            salary_info = job[\"employment_types\"][0][\"salary\"]\n",
        "            x_avg_salary = (salary_info[\"from\"] + salary_info[\"to\"]) / 2\n",
        "            x_total_salary += x_avg_salary\n",
        "            x_number_jobs += 1\n",
        "            x_min_salary = salary_info.get(\"from\")\n",
        "            x_max_salary = salary_info.get(\"to\")\n",
        "            x_min_salaries.append(x_min_salary)\n",
        "            x_max_salaries.append(x_max_salary)\n",
        "\n",
        "    x_average_salary = x_total_salary / x_number_jobs\n",
        "\n",
        "    x_name = x.capitalize()\n",
        "\n",
        "    plt.figure(figsize=(20, 8))\n",
        "    plt.hist(x_min_salaries, label=\"Minimalne zarobki\", color=\"blue\", bins = 30)\n",
        "    plt.ylabel(\"Oferty Pracy\")\n",
        "    plt.xlabel(\"Wynagrodzenie\")\n",
        "    plt.title(f\"Minimalne Wynagrodzenie w Ofertach Pracy {x_name}\")\n",
        "    plt.legend()\n",
        "\n",
        "    plt.figure(figsize=(20, 8))\n",
        "    plt.hist(x_max_salaries, label=\"Maksymalne zarobki\", color=\"red\", bins = 30)\n",
        "    plt.ylabel(\"Oferty Pracy\")\n",
        "    plt.xlabel(\"Wynagrodzenie\")\n",
        "    plt.title(f\"Maksymalne Wynagrodzenie w Ofertach Pracy {x_name}\")\n",
        "    plt.legend()\n",
        "\n",
        "    plt.figure(figsize=(20, 8))\n",
        "    plt.hist(x_min_salaries, label=\"Minimalne zarobki\", color=\"blue\", bins = 30)\n",
        "    plt.hist(x_max_salaries, label=\"Maksymalne zarobki\", color=\"red\", alpha = 0.5, bins = 30)\n",
        "    plt.ylabel(\"Oferty Pracy\")\n",
        "    plt.xlabel(\"Wynagrodzenie\")\n",
        "    plt.title(f\"Wynagrodzenie w Ofertach Pracy {x_name}\")\n",
        "    plt.legend()\n"
      ],
      "metadata": {
        "id": "qWWWIcU74EHt"
      },
      "execution_count": null,
      "outputs": []
    },
    {
      "cell_type": "code",
      "source": [
        "def list_offers(x):\n",
        "    x_total_salary = 0\n",
        "    x_number_jobs = 0\n",
        "    x_avg_salary = 0\n",
        "    x_min_salary = float('inf')\n",
        "    x_max_salary = 0\n",
        "    global list_salary\n",
        "\n",
        "    for job in dataset:\n",
        "        if job['marker_icon'] == x and job['employment_types'][0]['salary'] != None and job['employment_types'][0]['salary'][\"currency\"] == 'pln':\n",
        "            salary_info = job[\"employment_types\"][0][\"salary\"]\n",
        "            x_avg_salary = (salary_info[\"from\"] + salary_info[\"to\"]) / 2\n",
        "            x_total_salary += x_avg_salary\n",
        "            x_number_jobs += 1\n",
        "\n",
        "            if salary_info.get(\"from\") < x_min_salary:\n",
        "                x_min_salary = salary_info.get(\"from\")\n",
        "\n",
        "            if salary_info.get(\"to\") > x_max_salary:\n",
        "                x_max_salary = salary_info.get(\"to\")\n",
        "\n",
        "    x_list_salary = (x_min_salary, x_avg_salary, x_max_salary)\n",
        "    list_salary += x_list_salary\n"
      ],
      "metadata": {
        "id": "ckNgGFNmEayu"
      },
      "execution_count": null,
      "outputs": []
    },
    {
      "cell_type": "code",
      "source": [
        "def all_list_offers():\n",
        "    list_salary = []\n",
        "    marker_icons = set()\n",
        "\n",
        "    for marker_icon in dataset:\n",
        "        marker_icons.add(marker_icon['marker_icon'])\n",
        "\n",
        "    marker_icons = list(marker_icons)\n",
        "    marker_icons.sort()\n",
        "    marker_icons = tuple(marker_icons)\n",
        "\n",
        "    for numbers_marker in marker_icons:\n",
        "        x_total_salary = 0\n",
        "        x_number_jobs = 0\n",
        "        x_avg_salary = 0\n",
        "        x_min_salary = float('inf')\n",
        "        x_max_salary = 0\n",
        "        for job in dataset:\n",
        "            if job['marker_icon'] == numbers_marker and job['employment_types'][0]['salary'] != None and job['employment_types'][0]['salary'][\"currency\"] == 'pln':\n",
        "                salary_info = job[\"employment_types\"][0][\"salary\"]\n",
        "                x_avg_salary = (salary_info[\"from\"] + salary_info[\"to\"]) / 2\n",
        "                x_total_salary += x_avg_salary\n",
        "                x_number_jobs += 1\n",
        "\n",
        "                if salary_info.get(\"from\") < x_min_salary:\n",
        "                    x_min_salary = salary_info.get(\"from\")\n",
        "\n",
        "                if salary_info.get(\"to\") > x_max_salary:\n",
        "                    x_max_salary = salary_info.get(\"to\")\n",
        "\n",
        "        x_list_salary = (x_min_salary, x_avg_salary, x_max_salary)\n",
        "        list_salary += x_list_salary\n",
        "\n",
        "    colors = [\"#4097ed\", \"#0080ff\", \"#0059d6\", \"#e84a4a\", \"#ff0000\", \"#ab0000\", \"#e8e84a\", \"#ffff00\", \"#a3a300\", \"#49f279\", \"#00ff48\", \"#00962b\"]\n",
        "    plt.figure(figsize=(20, 8))\n",
        "    plt.xlabel(marker_icons)\n",
        "    plt.bar(range(len(list_salary)), list_salary, color = colors)\n",
        "    plt.ylabel(\"Wynagrodzenie\")\n",
        "    plt.title(\"Wynagrodzenie w Ofertach Pracy IT\")\n",
        "    plt.legend()"
      ],
      "metadata": {
        "id": "oqYezhDPJWb4"
      },
      "execution_count": null,
      "outputs": []
    },
    {
      "cell_type": "markdown",
      "source": [
        "# **Wykresy**"
      ],
      "metadata": {
        "id": "dxa2YWfOJuZE"
      }
    },
    {
      "cell_type": "code",
      "source": [
        "make_chart(\"python\")\n",
        "make_chart(\"java\")\n",
        "make_chart(\"javascript\")\n",
        "make_chart(\"c\")"
      ],
      "metadata": {
        "id": "J9_LocKJ4VsH"
      },
      "execution_count": null,
      "outputs": []
    },
    {
      "cell_type": "markdown",
      "source": [
        "# **Wykresy Porównanie**"
      ],
      "metadata": {
        "id": "Sc3LdL_MQO1u"
      }
    },
    {
      "cell_type": "code",
      "source": [
        "global list_salary\n",
        "list_salary = []\n",
        "list_offers(\"python\")\n",
        "list_offers(\"java\")\n",
        "list_offers(\"javascript\")\n",
        "list_offers(\"c\")\n",
        "\n",
        "colors = [\"#4097ed\", \"#0080ff\", \"#0059d6\", \"#e84a4a\", \"#ff0000\", \"#ab0000\", \"#e8e84a\", \"#ffff00\", \"#a3a300\", \"#49f279\", \"#00ff48\", \"#00962b\"]\n",
        "plt.figure(figsize=(20, 8))\n",
        "plt.bar(range(len(list_salary)), list_salary, color=colors)\n",
        "plt.ylabel(\"Wynagrodzenie\")\n",
        "plt.title(\"Wynagrodzenie w Ofertach Pracy Python, Java, Java Script, C\")\n",
        "plt.legend()"
      ],
      "metadata": {
        "id": "snq3dlD9fyBA"
      },
      "execution_count": null,
      "outputs": []
    },
    {
      "cell_type": "code",
      "source": [
        "all_list_offers()"
      ],
      "metadata": {
        "id": "smVFGc79N1bJ"
      },
      "execution_count": null,
      "outputs": []
    }
  ]
}